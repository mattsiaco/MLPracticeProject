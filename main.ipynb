{
 "cells": [
  {
   "cell_type": "markdown",
   "metadata": {},
   "source": [
    "# PROBLEM\n",
    "#### DATA COLLECTION\n",
    "#### DATA PREPROCESSING\n",
    "#### FEATURE ENGINEERING?\n",
    "#### TRAINING SPLIT\n",
    "#### TREATING THE MODEL\n",
    "#### TRAINING THE MODEL\n",
    "#### HYPERPARAMETER TUNING\n",
    "#### TEST DATA EVALUATION"
   ]
  },
  {
   "cell_type": "markdown",
   "metadata": {},
   "source": [
    "Imports"
   ]
  },
  {
   "cell_type": "code",
   "execution_count": null,
   "metadata": {},
   "outputs": [],
   "source": [
    "import pandas as pd\n",
    "import numpy as np\n",
    "import seaborn as sns\n",
    "import matplotlib.pyplot as plt\n",
    "import os\n",
    "\n",
    "from sklearn.model_selection import train_test_split\n",
    "from sklearn.ensemble import RandomForestRegressor\n",
    "from sklearn.impute import SimpleImputer\n",
    "from sklearn.feature_extraction.text import CountVectorizer\n",
    "from sklearn import svm"
   ]
  },
  {
   "cell_type": "code",
   "execution_count": null,
   "metadata": {},
   "outputs": [],
   "source": [
    "df = pd.read_csv(\"realtor-data.csv\")\n",
    "df.head()"
   ]
  },
  {
   "cell_type": "code",
   "execution_count": null,
   "metadata": {},
   "outputs": [],
   "source": [
    "df.info()"
   ]
  },
  {
   "cell_type": "markdown",
   "metadata": {},
   "source": [
    "# Data Cleaning"
   ]
  },
  {
   "cell_type": "code",
   "execution_count": null,
   "metadata": {},
   "outputs": [],
   "source": [
    "df.isnull().sum().sort_values(ascending=False)"
   ]
  },
  {
   "cell_type": "code",
   "execution_count": null,
   "metadata": {},
   "outputs": [],
   "source": [
    "# sns.heatmap(df.isnull(), yticklabels=False)"
   ]
  },
  {
   "cell_type": "code",
   "execution_count": null,
   "metadata": {},
   "outputs": [],
   "source": [
    "#Remove houses not ready for sale\n",
    "df = df.drop(df[df['status'] != 'for_sale'].index)\n",
    "#Since all are for sale we can drop this column\n",
    "df = df.drop('status', axis = 1)\n",
    "\n",
    "#Drop houses with no price since it is our main dependent variable\n",
    "df = df.dropna(subset='price')\n",
    "\n",
    "#Drop unimportant prev_sold_date, city, and zip_code variables\n",
    "df = df.drop(['prev_sold_date', 'city', 'zip_code'], axis=1)\n",
    "\n",
    "#Remove rows with two or more NaN values\n",
    "df = df.dropna(thresh = 2)"
   ]
  },
  {
   "cell_type": "code",
   "execution_count": null,
   "metadata": {},
   "outputs": [],
   "source": [
    "print(\"Raw numbers\")\n",
    "print(df.isnull().sum().sort_values(ascending=False))\n",
    "print(\"\\nPercentages\")\n",
    "print(((df.isnull().sum() / len(df)) * 100).sort_values(ascending=False))       "
   ]
  },
  {
   "cell_type": "code",
   "execution_count": null,
   "metadata": {},
   "outputs": [],
   "source": [
    "sns.boxplot(df)"
   ]
  },
  {
   "cell_type": "code",
   "execution_count": null,
   "metadata": {},
   "outputs": [],
   "source": [
    "#Because bed and bath NaN values contribute to less than 15% of the\n",
    "#904966 entry dataset, we can drop these rows\n",
    "df = df.dropna(subset = ['bed', 'bath'])"
   ]
  },
  {
   "cell_type": "code",
   "execution_count": null,
   "metadata": {},
   "outputs": [],
   "source": [
    "#Imputation based on mean per state for acre_lot and house_size\n",
    "\n",
    "#acre_mean = df.groupby('state')['acre_lot'].mean()\n",
    "#df['acre_lot'].fillna(df['state'].map(acre_mean), inplace = True)\n",
    "\n",
    "#size_mean = df.groupby('state')['house_size'].mean()\n",
    "#df['house_size'].fillna(df['state'].map(size_mean), inplace = True)"
   ]
  },
  {
   "cell_type": "code",
   "execution_count": null,
   "metadata": {},
   "outputs": [],
   "source": [
    "notnull_houseSize = df.dropna(subset=['house_size'])\n",
    "X = notnull_houseSize[['beds', 'bath', 'state', 'house_size', 'price']]\n",
    "y = notnull_houseSize['acre_lot']\n",
    "\n",
    "# Split the data into training and testing sets\n",
    "X_train, X_test, y_train, y_test = train_test_split(X, y, test_size=0.2, random_state=42)\n",
    "\n",
    "# Define a preprocessor to handle missing values and encode categorical variables\n",
    "preprocessor = SimpleImputer(strategy='mean')  # You can use other strategies as well\n",
    "X_train_imputed = preprocessor.fit_transform(X_train)\n",
    "X_test_imputed = preprocessor.transform(X_test)\n",
    "\n",
    "# Create a Random Forest Regressor model\n",
    "model = RandomForestRegressor(random_state=42)\n",
    "\n",
    "# Fit the model to the training data\n",
    "model.fit(X_train_imputed, y_train)\n",
    "\n",
    "# Make predictions on the test set\n",
    "y_pred = model.predict(X_test_imputed)\n",
    "\n",
    "# Evaluate the model performance (optional)\n",
    "mse = mean_squared_error(y_test, y_pred)\n",
    "print(f'Mean Squared Error: {mse}')\n",
    "\n",
    "# Now, you can use the model to predict 'acre_lot' for new data\n",
    "new_data = pd.DataFrame({'beds': [3], 'bath': [2], 'state': ['A'], 'house_size': [1800], 'price': [250000]})\n",
    "new_data_imputed = preprocessor.transform(new_data)\n",
    "prediction = model.predict(new_data_imputed)\n",
    "print(f'Predicted acre_lot: {prediction[0]}')"
   ]
  },
  {
   "cell_type": "code",
   "execution_count": null,
   "metadata": {},
   "outputs": [],
   "source": [
    "sns.boxplot(df['price'])"
   ]
  },
  {
   "cell_type": "code",
   "execution_count": null,
   "metadata": {},
   "outputs": [],
   "source": [
    "#Removing price outliers\n",
    "\n",
    "Q1 = np.quantile(df['price'] , 0.25)\n",
    "Q3 = np.quantile(df['price'] , 0.75)\n",
    "IQR = Q3 - Q1\n",
    "\n",
    "lower_range = Q1 - 1.5 * IQR\n",
    "upper_range = Q3 + 1.5 * IQR\n",
    "outliers = [value for value in df['price'] if (\n",
    "        (value > lower_range) & (value < upper_range))]\n",
    "df = df.loc[df['price'].isin(outliers)]"
   ]
  },
  {
   "cell_type": "code",
   "execution_count": null,
   "metadata": {},
   "outputs": [],
   "source": [
    "#Now there are no null values\n",
    "print(df.isnull().sum().sort_values(ascending=False))"
   ]
  },
  {
   "cell_type": "code",
   "execution_count": null,
   "metadata": {},
   "outputs": [],
   "source": [
    "df[\"state\"].value_counts() "
   ]
  },
  {
   "cell_type": "code",
   "execution_count": null,
   "metadata": {},
   "outputs": [],
   "source": [
    "#Since Georgia, Wyoming, and West Virginia only contribute to 54 entries, we can drop these values\n",
    "df = df[~df['state'].isin([\"Georgia\", \"Wyoming\", \"West Virginia\"])]\n",
    "print(df['state'].unique())"
   ]
  },
  {
   "cell_type": "code",
   "execution_count": null,
   "metadata": {},
   "outputs": [],
   "source": [
    "#Numbers for each unique state\n",
    "\n",
    "state_names = df['state'].unique()\n",
    "state_mapping = {state: i for i, state in enumerate(state_names)}\n",
    "df['state #'] = df['state'].map(state_mapping)\n",
    "\n",
    "for state, number in state_mapping.items():\n",
    "    print(f\"{state}: {number}\")\n",
    "    \n",
    "#df = df.drop('state', axis = 1)\n",
    "# numeric_value_for_desired_state = state_mapping[desired_state]"
   ]
  },
  {
   "cell_type": "code",
   "execution_count": null,
   "metadata": {},
   "outputs": [],
   "source": []
  },
  {
   "cell_type": "markdown",
   "metadata": {},
   "source": [
    "# Data Visualization"
   ]
  },
  {
   "cell_type": "code",
   "execution_count": null,
   "metadata": {},
   "outputs": [],
   "source": []
  },
  {
   "cell_type": "code",
   "execution_count": null,
   "metadata": {},
   "outputs": [],
   "source": []
  }
 ],
 "metadata": {
  "kernelspec": {
   "display_name": "projectenv",
   "language": "python",
   "name": "python3"
  },
  "language_info": {
   "codemirror_mode": {
    "name": "ipython",
    "version": 3
   },
   "file_extension": ".py",
   "mimetype": "text/x-python",
   "name": "python",
   "nbconvert_exporter": "python",
   "pygments_lexer": "ipython3",
   "version": "3.12.0"
  }
 },
 "nbformat": 4,
 "nbformat_minor": 2
}
