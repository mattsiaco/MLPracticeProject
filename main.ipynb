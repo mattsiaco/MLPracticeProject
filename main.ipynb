{
 "cells": [
  {
   "cell_type": "markdown",
   "metadata": {},
   "source": [
    "# PROBLEM\n",
    "#### DATA COLLECTION\n",
    "#### DATA PREPROCESSING\n",
    "#### FEATURE ENGINEERING?\n",
    "#### TRAINING SPLIT\n",
    "#### TREATING THE MODEL\n",
    "#### TRAINING THE MODEL\n",
    "#### HYPERPARAMETER TUNING\n",
    "#### TEST DATA EVALUATION"
   ]
  },
  {
   "cell_type": "markdown",
   "metadata": {},
   "source": [
    "Imports"
   ]
  },
  {
   "cell_type": "code",
   "execution_count": 369,
   "metadata": {},
   "outputs": [],
   "source": [
    "import pandas as pd\n",
    "import numpy as np\n",
    "import seaborn as sns\n",
    "import matplotlib.pyplot as plt\n",
    "import os\n",
    "\n",
    "from sklearn.model_selection import train_test_split\n",
    "from sklearn.feature_extraction.text import CountVectorizer\n",
    "from sklearn import svm"
   ]
  },
  {
   "cell_type": "code",
   "execution_count": 370,
   "metadata": {},
   "outputs": [
    {
     "data": {
      "text/html": [
       "<div>\n",
       "<style scoped>\n",
       "    .dataframe tbody tr th:only-of-type {\n",
       "        vertical-align: middle;\n",
       "    }\n",
       "\n",
       "    .dataframe tbody tr th {\n",
       "        vertical-align: top;\n",
       "    }\n",
       "\n",
       "    .dataframe thead th {\n",
       "        text-align: right;\n",
       "    }\n",
       "</style>\n",
       "<table border=\"1\" class=\"dataframe\">\n",
       "  <thead>\n",
       "    <tr style=\"text-align: right;\">\n",
       "      <th></th>\n",
       "      <th>status</th>\n",
       "      <th>bed</th>\n",
       "      <th>bath</th>\n",
       "      <th>acre_lot</th>\n",
       "      <th>city</th>\n",
       "      <th>state</th>\n",
       "      <th>zip_code</th>\n",
       "      <th>house_size</th>\n",
       "      <th>prev_sold_date</th>\n",
       "      <th>price</th>\n",
       "    </tr>\n",
       "  </thead>\n",
       "  <tbody>\n",
       "    <tr>\n",
       "      <th>0</th>\n",
       "      <td>for_sale</td>\n",
       "      <td>3.0</td>\n",
       "      <td>2.0</td>\n",
       "      <td>0.12</td>\n",
       "      <td>Adjuntas</td>\n",
       "      <td>Puerto Rico</td>\n",
       "      <td>601.0</td>\n",
       "      <td>920.0</td>\n",
       "      <td>NaN</td>\n",
       "      <td>105000.0</td>\n",
       "    </tr>\n",
       "    <tr>\n",
       "      <th>1</th>\n",
       "      <td>for_sale</td>\n",
       "      <td>4.0</td>\n",
       "      <td>2.0</td>\n",
       "      <td>0.08</td>\n",
       "      <td>Adjuntas</td>\n",
       "      <td>Puerto Rico</td>\n",
       "      <td>601.0</td>\n",
       "      <td>1527.0</td>\n",
       "      <td>NaN</td>\n",
       "      <td>80000.0</td>\n",
       "    </tr>\n",
       "    <tr>\n",
       "      <th>2</th>\n",
       "      <td>for_sale</td>\n",
       "      <td>2.0</td>\n",
       "      <td>1.0</td>\n",
       "      <td>0.15</td>\n",
       "      <td>Juana Diaz</td>\n",
       "      <td>Puerto Rico</td>\n",
       "      <td>795.0</td>\n",
       "      <td>748.0</td>\n",
       "      <td>NaN</td>\n",
       "      <td>67000.0</td>\n",
       "    </tr>\n",
       "    <tr>\n",
       "      <th>3</th>\n",
       "      <td>for_sale</td>\n",
       "      <td>4.0</td>\n",
       "      <td>2.0</td>\n",
       "      <td>0.10</td>\n",
       "      <td>Ponce</td>\n",
       "      <td>Puerto Rico</td>\n",
       "      <td>731.0</td>\n",
       "      <td>1800.0</td>\n",
       "      <td>NaN</td>\n",
       "      <td>145000.0</td>\n",
       "    </tr>\n",
       "    <tr>\n",
       "      <th>4</th>\n",
       "      <td>for_sale</td>\n",
       "      <td>6.0</td>\n",
       "      <td>2.0</td>\n",
       "      <td>0.05</td>\n",
       "      <td>Mayaguez</td>\n",
       "      <td>Puerto Rico</td>\n",
       "      <td>680.0</td>\n",
       "      <td>NaN</td>\n",
       "      <td>NaN</td>\n",
       "      <td>65000.0</td>\n",
       "    </tr>\n",
       "  </tbody>\n",
       "</table>\n",
       "</div>"
      ],
      "text/plain": [
       "     status  bed  bath  acre_lot        city        state  zip_code  \\\n",
       "0  for_sale  3.0   2.0      0.12    Adjuntas  Puerto Rico     601.0   \n",
       "1  for_sale  4.0   2.0      0.08    Adjuntas  Puerto Rico     601.0   \n",
       "2  for_sale  2.0   1.0      0.15  Juana Diaz  Puerto Rico     795.0   \n",
       "3  for_sale  4.0   2.0      0.10       Ponce  Puerto Rico     731.0   \n",
       "4  for_sale  6.0   2.0      0.05    Mayaguez  Puerto Rico     680.0   \n",
       "\n",
       "   house_size prev_sold_date     price  \n",
       "0       920.0            NaN  105000.0  \n",
       "1      1527.0            NaN   80000.0  \n",
       "2       748.0            NaN   67000.0  \n",
       "3      1800.0            NaN  145000.0  \n",
       "4         NaN            NaN   65000.0  "
      ]
     },
     "execution_count": 370,
     "metadata": {},
     "output_type": "execute_result"
    }
   ],
   "source": [
    "df = pd.read_csv(\"realtor-data.csv\")\n",
    "df.head()"
   ]
  },
  {
   "cell_type": "code",
   "execution_count": 371,
   "metadata": {},
   "outputs": [
    {
     "name": "stdout",
     "output_type": "stream",
     "text": [
      "<class 'pandas.core.frame.DataFrame'>\n",
      "RangeIndex: 904966 entries, 0 to 904965\n",
      "Data columns (total 10 columns):\n",
      " #   Column          Non-Null Count   Dtype  \n",
      "---  ------          --------------   -----  \n",
      " 0   status          904966 non-null  object \n",
      " 1   bed             775126 non-null  float64\n",
      " 2   bath            791082 non-null  float64\n",
      " 3   acre_lot        638324 non-null  float64\n",
      " 4   city            904894 non-null  object \n",
      " 5   state           904966 non-null  object \n",
      " 6   zip_code        904762 non-null  float64\n",
      " 7   house_size      612080 non-null  float64\n",
      " 8   prev_sold_date  445865 non-null  object \n",
      " 9   price           904895 non-null  float64\n",
      "dtypes: float64(6), object(4)\n",
      "memory usage: 69.0+ MB\n"
     ]
    }
   ],
   "source": [
    "df.info()"
   ]
  },
  {
   "cell_type": "markdown",
   "metadata": {},
   "source": [
    "Visualizing N/A values"
   ]
  },
  {
   "cell_type": "code",
   "execution_count": 372,
   "metadata": {},
   "outputs": [
    {
     "data": {
      "text/plain": [
       "prev_sold_date    459101\n",
       "house_size        292886\n",
       "acre_lot          266642\n",
       "bed               129840\n",
       "bath              113884\n",
       "zip_code             204\n",
       "city                  72\n",
       "price                 71\n",
       "status                 0\n",
       "state                  0\n",
       "dtype: int64"
      ]
     },
     "execution_count": 372,
     "metadata": {},
     "output_type": "execute_result"
    }
   ],
   "source": [
    "df.isnull().sum().sort_values(ascending=False)"
   ]
  },
  {
   "cell_type": "code",
   "execution_count": 373,
   "metadata": {},
   "outputs": [],
   "source": [
    "# sns.heatmap(df.isnull(), yticklabels=False)"
   ]
  },
  {
   "cell_type": "code",
   "execution_count": 374,
   "metadata": {},
   "outputs": [],
   "source": [
    "#Remove houses not ready for sale then we can remove this variable\n",
    "df = df.drop(df[df['status'] != 'for_sale'].index)\n",
    "df = df.drop('status', axis = 1)\n",
    "\n",
    "#Remove houses with no price\n",
    "df = df.dropna(subset='price')\n",
    "\n",
    "#Remove unimportant prev_sold_date, city, and zip_code variables\n",
    "df = df.drop(['prev_sold_date', 'city', 'zip_code'], axis=1)\n",
    "\n",
    "#Remove rows with two or more NaN values\n",
    "df = df.dropna(thresh = 2)"
   ]
  },
  {
   "cell_type": "code",
   "execution_count": 375,
   "metadata": {},
   "outputs": [
    {
     "name": "stdout",
     "output_type": "stream",
     "text": [
      "Raw numbers\n",
      "house_size    292886\n",
      "acre_lot      265049\n",
      "bed           129840\n",
      "bath          112291\n",
      "state              0\n",
      "price              0\n",
      "dtype: int64\n",
      "\n",
      "Percentages\n",
      "house_size    32.421381\n",
      "acre_lot      29.339929\n",
      "bed           14.372801\n",
      "bath          12.430192\n",
      "state          0.000000\n",
      "price          0.000000\n",
      "dtype: float64\n"
     ]
    }
   ],
   "source": [
    "print(\"Raw numbers\")\n",
    "print(df.isnull().sum().sort_values(ascending=False))\n",
    "print(\"\\nPercentages\")\n",
    "print(((df.isnull().sum() / len(df)) * 100).sort_values(ascending=False))       "
   ]
  },
  {
   "cell_type": "code",
   "execution_count": 376,
   "metadata": {},
   "outputs": [],
   "source": [
    "#Because bed and bath NaN values contribute to less than 15% of the\n",
    "#904966 entry dataset, we can drop these rows\n",
    "df = df.dropna(subset = ['bed', 'bath'])"
   ]
  },
  {
   "cell_type": "code",
   "execution_count": 377,
   "metadata": {},
   "outputs": [
    {
     "data": {
      "text/plain": [
       "state\n",
       "New Jersey        216004\n",
       "New York          175189\n",
       "Massachusetts     148332\n",
       "Connecticut        78235\n",
       "New Hampshire      32171\n",
       "Rhode Island       28212\n",
       "Vermont            28121\n",
       "Maine              24564\n",
       "Puerto Rico        21313\n",
       "Pennsylvania       15044\n",
       "Delaware            1988\n",
       "Virgin Islands       742\n",
       "Georgia               48\n",
       "Wyoming                3\n",
       "West Virginia          3\n",
       "Name: count, dtype: int64"
      ]
     },
     "execution_count": 377,
     "metadata": {},
     "output_type": "execute_result"
    }
   ],
   "source": [
    "df[\"state\"].value_counts() "
   ]
  },
  {
   "cell_type": "code",
   "execution_count": 378,
   "metadata": {},
   "outputs": [
    {
     "name": "stdout",
     "output_type": "stream",
     "text": [
      "['Puerto Rico' 'Virgin Islands' 'Massachusetts' 'Connecticut' 'New Jersey'\n",
      " 'New York' 'New Hampshire' 'Vermont' 'Rhode Island' 'Maine'\n",
      " 'Pennsylvania' 'Delaware']\n"
     ]
    }
   ],
   "source": [
    "#Since Georgia, Wyoming, and West Virginia only contribute to 54 entries, we can drop these values\n",
    "df = df[~df['state'].isin([\"Georgia\", \"Wyoming\", \"West Virginia\"])]\n",
    "print(df['state'].unique())\n"
   ]
  },
  {
   "cell_type": "code",
   "execution_count": 379,
   "metadata": {},
   "outputs": [
    {
     "name": "stdout",
     "output_type": "stream",
     "text": [
      "Puerto Rico: 0\n",
      "Virgin Islands: 1\n",
      "Massachusetts: 2\n",
      "Connecticut: 3\n",
      "New Jersey: 4\n",
      "New York: 5\n",
      "New Hampshire: 6\n",
      "Vermont: 7\n",
      "Rhode Island: 8\n",
      "Maine: 9\n",
      "Pennsylvania: 10\n",
      "Delaware: 11\n"
     ]
    }
   ],
   "source": [
    "state_names = df['state'].unique()\n",
    "state_mapping = {state: i for i, state in enumerate(state_names)}\n",
    "df['state #'] = df['state'].map(state_mapping)\n",
    "\n",
    "for state, number in state_mapping.items():\n",
    "    print(f\"{state}: {number}\")\n",
    "    \n",
    "df = df.drop('state', axis = 1)\n",
    "# numeric_value_for_desired_state = state_mapping[desired_state]"
   ]
  },
  {
   "cell_type": "code",
   "execution_count": 380,
   "metadata": {},
   "outputs": [],
   "source": [
    "#plt.plot(df['price'], 'o')\n",
    "#plt.title(\"Plot of prices\")\n",
    "#plt.ylabel(\"Value\")\n",
    "#plt.show()"
   ]
  },
  {
   "cell_type": "code",
   "execution_count": 381,
   "metadata": {},
   "outputs": [],
   "source": [
    "#df = df.drop(df[df['price'] > 6000000].index)\n",
    "#plt.plot(df['price'], 'o')\n",
    "#plt.title(\"Plot of prices\")\n",
    "#plt.ylabel(\"Value\")\n",
    "#plt.show()\n"
   ]
  },
  {
   "cell_type": "code",
   "execution_count": 382,
   "metadata": {},
   "outputs": [
    {
     "data": {
      "image/png": "[encoded data removed]",
      "text/plain": [
       "<Figure size 640x480 with 1 Axes>"
      ]
     },
     "metadata": {},
     "output_type": "display_data"
    }
   ],
   "source": [
    "#df = df.drop(df[df['price'] > 800000000].index)\n",
    "plt.scatter(df.index, df['price'].values, s = 1)\n",
    "plt.show()"
   ]
  },
  {
   "cell_type": "code",
   "execution_count": null,
   "metadata": {},
   "outputs": [],
   "source": []
  }
 ],
 "metadata": {
  "kernelspec": {
   "display_name": "projectenv",
   "language": "python",
   "name": "python3"
  },
  "language_info": {
   "codemirror_mode": {
    "name": "ipython",
    "version": 3
   },
   "file_extension": ".py",
   "mimetype": "text/x-python",
   "name": "python",
   "nbconvert_exporter": "python",
   "pygments_lexer": "ipython3",
   "version": "3.12.0"
  }
 },
 "nbformat": 4,
 "nbformat_minor": 2
}
