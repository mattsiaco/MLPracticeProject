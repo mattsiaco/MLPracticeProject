{
 "cells": [
  {
   "cell_type": "markdown",
   "metadata": {},
   "source": [
    "# PROBLEM\n",
    "#### DATA COLLECTION\n",
    "#### DATA PREPROCESSING\n",
    "#### FEATURE ENGINEERING?\n",
    "#### TRAINING SPLIT\n",
    "#### TREATING THE MODEL\n",
    "#### TRAINING THE MODEL\n",
    "#### HYPERPARAMETER TUNING\n",
    "#### TEST DATA EVALUATION"
   ]
  },
  {
   "cell_type": "markdown",
   "metadata": {},
   "source": [
    "Imports"
   ]
  },
  {
   "cell_type": "code",
   "execution_count": 1,
   "metadata": {},
   "outputs": [],
   "source": [
    "import pandas as pd\n",
    "import numpy as np\n",
    "import seaborn as sns\n",
    "import matplotlib.pyplot as plt\n",
    "import os\n",
    "\n",
    "from sklearn.model_selection import train_test_split\n",
    "from sklearn.ensemble import RandomForestRegressor\n",
    "from sklearn.impute import SimpleImputer\n",
    "from sklearn.metrics import mean_squared_error\n",
    "from sklearn.feature_extraction.text import CountVectorizer\n",
    "from sklearn import svm"
   ]
  },
  {
   "cell_type": "code",
   "execution_count": 2,
   "metadata": {},
   "outputs": [
    {
     "data": {
      "text/html": [
       "<div>\n",
       "<style scoped>\n",
       "    .dataframe tbody tr th:only-of-type {\n",
       "        vertical-align: middle;\n",
       "    }\n",
       "\n",
       "    .dataframe tbody tr th {\n",
       "        vertical-align: top;\n",
       "    }\n",
       "\n",
       "    .dataframe thead th {\n",
       "        text-align: right;\n",
       "    }\n",
       "</style>\n",
       "<table border=\"1\" class=\"dataframe\">\n",
       "  <thead>\n",
       "    <tr style=\"text-align: right;\">\n",
       "      <th></th>\n",
       "      <th>status</th>\n",
       "      <th>bed</th>\n",
       "      <th>bath</th>\n",
       "      <th>acre_lot</th>\n",
       "      <th>city</th>\n",
       "      <th>state</th>\n",
       "      <th>zip_code</th>\n",
       "      <th>house_size</th>\n",
       "      <th>prev_sold_date</th>\n",
       "      <th>price</th>\n",
       "    </tr>\n",
       "  </thead>\n",
       "  <tbody>\n",
       "    <tr>\n",
       "      <th>0</th>\n",
       "      <td>for_sale</td>\n",
       "      <td>3.0</td>\n",
       "      <td>2.0</td>\n",
       "      <td>0.12</td>\n",
       "      <td>Adjuntas</td>\n",
       "      <td>Puerto Rico</td>\n",
       "      <td>601.0</td>\n",
       "      <td>920.0</td>\n",
       "      <td>NaN</td>\n",
       "      <td>105000.0</td>\n",
       "    </tr>\n",
       "    <tr>\n",
       "      <th>1</th>\n",
       "      <td>for_sale</td>\n",
       "      <td>4.0</td>\n",
       "      <td>2.0</td>\n",
       "      <td>0.08</td>\n",
       "      <td>Adjuntas</td>\n",
       "      <td>Puerto Rico</td>\n",
       "      <td>601.0</td>\n",
       "      <td>1527.0</td>\n",
       "      <td>NaN</td>\n",
       "      <td>80000.0</td>\n",
       "    </tr>\n",
       "    <tr>\n",
       "      <th>2</th>\n",
       "      <td>for_sale</td>\n",
       "      <td>2.0</td>\n",
       "      <td>1.0</td>\n",
       "      <td>0.15</td>\n",
       "      <td>Juana Diaz</td>\n",
       "      <td>Puerto Rico</td>\n",
       "      <td>795.0</td>\n",
       "      <td>748.0</td>\n",
       "      <td>NaN</td>\n",
       "      <td>67000.0</td>\n",
       "    </tr>\n",
       "    <tr>\n",
       "      <th>3</th>\n",
       "      <td>for_sale</td>\n",
       "      <td>4.0</td>\n",
       "      <td>2.0</td>\n",
       "      <td>0.10</td>\n",
       "      <td>Ponce</td>\n",
       "      <td>Puerto Rico</td>\n",
       "      <td>731.0</td>\n",
       "      <td>1800.0</td>\n",
       "      <td>NaN</td>\n",
       "      <td>145000.0</td>\n",
       "    </tr>\n",
       "    <tr>\n",
       "      <th>4</th>\n",
       "      <td>for_sale</td>\n",
       "      <td>6.0</td>\n",
       "      <td>2.0</td>\n",
       "      <td>0.05</td>\n",
       "      <td>Mayaguez</td>\n",
       "      <td>Puerto Rico</td>\n",
       "      <td>680.0</td>\n",
       "      <td>NaN</td>\n",
       "      <td>NaN</td>\n",
       "      <td>65000.0</td>\n",
       "    </tr>\n",
       "  </tbody>\n",
       "</table>\n",
       "</div>"
      ],
      "text/plain": [
       "     status  bed  bath  acre_lot        city        state  zip_code  \\\n",
       "0  for_sale  3.0   2.0      0.12    Adjuntas  Puerto Rico     601.0   \n",
       "1  for_sale  4.0   2.0      0.08    Adjuntas  Puerto Rico     601.0   \n",
       "2  for_sale  2.0   1.0      0.15  Juana Diaz  Puerto Rico     795.0   \n",
       "3  for_sale  4.0   2.0      0.10       Ponce  Puerto Rico     731.0   \n",
       "4  for_sale  6.0   2.0      0.05    Mayaguez  Puerto Rico     680.0   \n",
       "\n",
       "   house_size prev_sold_date     price  \n",
       "0       920.0            NaN  105000.0  \n",
       "1      1527.0            NaN   80000.0  \n",
       "2       748.0            NaN   67000.0  \n",
       "3      1800.0            NaN  145000.0  \n",
       "4         NaN            NaN   65000.0  "
      ]
     },
     "execution_count": 2,
     "metadata": {},
     "output_type": "execute_result"
    }
   ],
   "source": [
    "df = pd.read_csv(\"realtor-data.csv\")\n",
    "df.head()"
   ]
  },
  {
   "cell_type": "code",
   "execution_count": 3,
   "metadata": {},
   "outputs": [
    {
     "name": "stdout",
     "output_type": "stream",
     "text": [
      "<class 'pandas.core.frame.DataFrame'>\n",
      "RangeIndex: 904966 entries, 0 to 904965\n",
      "Data columns (total 10 columns):\n",
      " #   Column          Non-Null Count   Dtype  \n",
      "---  ------          --------------   -----  \n",
      " 0   status          904966 non-null  object \n",
      " 1   bed             775126 non-null  float64\n",
      " 2   bath            791082 non-null  float64\n",
      " 3   acre_lot        638324 non-null  float64\n",
      " 4   city            904894 non-null  object \n",
      " 5   state           904966 non-null  object \n",
      " 6   zip_code        904762 non-null  float64\n",
      " 7   house_size      612080 non-null  float64\n",
      " 8   prev_sold_date  445865 non-null  object \n",
      " 9   price           904895 non-null  float64\n",
      "dtypes: float64(6), object(4)\n",
      "memory usage: 69.0+ MB\n"
     ]
    }
   ],
   "source": [
    "df.info()"
   ]
  },
  {
   "cell_type": "markdown",
   "metadata": {},
   "source": [
    "# Data Cleaning"
   ]
  },
  {
   "cell_type": "code",
   "execution_count": 4,
   "metadata": {},
   "outputs": [
    {
     "data": {
      "text/plain": [
       "prev_sold_date    459101\n",
       "house_size        292886\n",
       "acre_lot          266642\n",
       "bed               129840\n",
       "bath              113884\n",
       "zip_code             204\n",
       "city                  72\n",
       "price                 71\n",
       "status                 0\n",
       "state                  0\n",
       "dtype: int64"
      ]
     },
     "execution_count": 4,
     "metadata": {},
     "output_type": "execute_result"
    }
   ],
   "source": [
    "df.isnull().sum().sort_values(ascending=False)"
   ]
  },
  {
   "cell_type": "code",
   "execution_count": 5,
   "metadata": {},
   "outputs": [],
   "source": [
    "# sns.heatmap(df.isnull(), yticklabels=False)"
   ]
  },
  {
   "cell_type": "code",
   "execution_count": 6,
   "metadata": {},
   "outputs": [],
   "source": [
    "#Remove houses not ready for sale\n",
    "df = df.drop(df[df['status'] != 'for_sale'].index)\n",
    "#Since all are for sale we can drop this column\n",
    "df = df.drop('status', axis = 1)\n",
    "\n",
    "#Drop houses with no price since it is our main dependent variable\n",
    "df = df.dropna(subset='price')\n",
    "\n",
    "#Drop unimportant prev_sold_date, city, and zip_code variables\n",
    "df = df.drop(['prev_sold_date', 'city', 'zip_code'], axis=1)\n",
    "\n",
    "#Remove rows with two or more NaN values\n",
    "df = df.dropna(thresh = 2)"
   ]
  },
  {
   "cell_type": "code",
   "execution_count": 7,
   "metadata": {},
   "outputs": [
    {
     "name": "stdout",
     "output_type": "stream",
     "text": [
      "Raw numbers\n",
      "house_size    292886\n",
      "acre_lot      265049\n",
      "bed           129840\n",
      "bath          112291\n",
      "state              0\n",
      "price              0\n",
      "dtype: int64\n",
      "\n",
      "Percentages\n",
      "house_size    32.421381\n",
      "acre_lot      29.339929\n",
      "bed           14.372801\n",
      "bath          12.430192\n",
      "state          0.000000\n",
      "price          0.000000\n",
      "dtype: float64\n"
     ]
    }
   ],
   "source": [
    "print(\"Raw numbers\")\n",
    "print(df.isnull().sum().sort_values(ascending=False))\n",
    "print(\"\\nPercentages\")\n",
    "print(((df.isnull().sum() / len(df)) * 100).sort_values(ascending=False))       "
   ]
  },
  {
   "cell_type": "code",
   "execution_count": 8,
   "metadata": {},
   "outputs": [
    {
     "data": {
      "text/plain": [
       "<Axes: >"
      ]
     },
     "execution_count": 8,
     "metadata": {},
     "output_type": "execute_result"
    },
    {
     "data": {
      "image/png": "[encoded data removed]",
      "text/plain": [
       "<Figure size 640x480 with 1 Axes>"
      ]
     },
     "metadata": {},
     "output_type": "display_data"
    }
   ],
   "source": [
    "sns.boxplot(df)"
   ]
  },
  {
   "cell_type": "code",
   "execution_count": 9,
   "metadata": {},
   "outputs": [],
   "source": [
    "#Because bed and bath NaN values contribute to less than 15% of the\n",
    "#904966 entry dataset, we can drop these rows\n",
    "df = df.dropna(subset = ['bed', 'bath'])"
   ]
  },
  {
   "cell_type": "code",
   "execution_count": 10,
   "metadata": {},
   "outputs": [],
   "source": [
    "#Imputation based on mean per state for acre_lot and house_size\n",
    "\n",
    "#acre_mean = df.groupby('state')['acre_lot'].mean()\n",
    "#df['acre_lot'].fillna(df['state'].map(acre_mean), inplace = True)\n",
    "\n",
    "#size_mean = df.groupby('state')['house_size'].mean()\n",
    "#df['house_size'].fillna(df['state'].map(size_mean), inplace = True)"
   ]
  },
  {
   "cell_type": "code",
   "execution_count": 11,
   "metadata": {},
   "outputs": [
    {
     "data": {
      "text/plain": [
       "state\n",
       "New Jersey        216004\n",
       "New York          175189\n",
       "Massachusetts     148332\n",
       "Connecticut        78235\n",
       "New Hampshire      32171\n",
       "Rhode Island       28212\n",
       "Vermont            28121\n",
       "Maine              24564\n",
       "Puerto Rico        21313\n",
       "Pennsylvania       15044\n",
       "Delaware            1988\n",
       "Virgin Islands       742\n",
       "Georgia               48\n",
       "Wyoming                3\n",
       "West Virginia          3\n",
       "Name: count, dtype: int64"
      ]
     },
     "execution_count": 11,
     "metadata": {},
     "output_type": "execute_result"
    }
   ],
   "source": [
    "df[\"state\"].value_counts() "
   ]
  },
  {
   "cell_type": "code",
   "execution_count": 12,
   "metadata": {},
   "outputs": [
    {
     "name": "stdout",
     "output_type": "stream",
     "text": [
      "['Puerto Rico' 'Virgin Islands' 'Massachusetts' 'Connecticut' 'New Jersey'\n",
      " 'New York' 'New Hampshire' 'Vermont' 'Rhode Island' 'Maine'\n",
      " 'Pennsylvania' 'Delaware']\n"
     ]
    }
   ],
   "source": [
    "#Since Georgia, Wyoming, and West Virginia only contribute to 54 entries, we can drop these values\n",
    "df = df[~df['state'].isin([\"Georgia\", \"Wyoming\", \"West Virginia\"])]\n",
    "print(df['state'].unique())"
   ]
  },
  {
   "cell_type": "code",
   "execution_count": 13,
   "metadata": {},
   "outputs": [
    {
     "name": "stdout",
     "output_type": "stream",
     "text": [
      "Puerto Rico: 0\n",
      "Virgin Islands: 1\n",
      "Massachusetts: 2\n",
      "Connecticut: 3\n",
      "New Jersey: 4\n",
      "New York: 5\n",
      "New Hampshire: 6\n",
      "Vermont: 7\n",
      "Rhode Island: 8\n",
      "Maine: 9\n",
      "Pennsylvania: 10\n",
      "Delaware: 11\n"
     ]
    }
   ],
   "source": [
    "#Numbers for each unique state\n",
    "\n",
    "state_names = df['state'].unique()\n",
    "state_mapping = {state: i for i, state in enumerate(state_names)}\n",
    "df['state #'] = df['state'].map(state_mapping)\n",
    "\n",
    "for state, number in state_mapping.items():\n",
    "    print(f\"{state}: {number}\")\n",
    "    \n",
    "#df = df.drop('state', axis = 1)\n",
    "# numeric_value_for_desired_state = state_mapping[desired_state]"
   ]
  },
  {
   "cell_type": "code",
   "execution_count": 14,
   "metadata": {},
   "outputs": [
    {
     "name": "stdout",
     "output_type": "stream",
     "text": [
      "acre_lot      245165\n",
      "house_size    180650\n",
      "bed                0\n",
      "bath               0\n",
      "state              0\n",
      "price              0\n",
      "state #            0\n",
      "dtype: int64\n"
     ]
    }
   ],
   "source": [
    "print(df.isnull().sum().sort_values(ascending=False))"
   ]
  },
  {
   "cell_type": "code",
   "execution_count": 18,
   "metadata": {},
   "outputs": [
    {
     "data": {
      "text/plain": [
       "<Axes: ylabel='acre_lot'>"
      ]
     },
     "execution_count": 18,
     "metadata": {},
     "output_type": "execute_result"
    },
    {
     "data": {
      "image/png": "[encoded data removed]",
      "text/plain": [
       "<Figure size 640x480 with 1 Axes>"
      ]
     },
     "metadata": {},
     "output_type": "display_data"
    }
   ],
   "source": [
    "sns.scatterplot(df['acre_lot']) \n"
   ]
  },
  {
   "cell_type": "code",
   "execution_count": null,
   "metadata": {},
   "outputs": [],
   "source": [
    "sns.scatterplot(df['house_size']) "
   ]
  },
  {
   "cell_type": "code",
   "execution_count": null,
   "metadata": {},
   "outputs": [],
   "source": [
    "sns.scatterplot(df['price'])"
   ]
  },
  {
   "cell_type": "code",
   "execution_count": null,
   "metadata": {},
   "outputs": [],
   "source": [
    "df = df[(df['acre_lot'] <= 200) | df['acre_lot'].isnull()]\n",
    "\n",
    "\n",
    "df = df[df['price'] < 150000000]\n"
   ]
  },
  {
   "cell_type": "code",
   "execution_count": null,
   "metadata": {},
   "outputs": [],
   "source": [
    "print(df.isnull().sum().sort_values(ascending=False))"
   ]
  },
  {
   "cell_type": "code",
   "execution_count": null,
   "metadata": {},
   "outputs": [],
   "source": [
    "#df = df[df['acre_lot'] != 0.0]\n",
    "df_filtered = df.dropna(subset=['acre_lot', 'house_size'])\n",
    "X = df_filtered[['bed', 'bath', 'state #', 'house_size', 'price']]\n",
    "y = df_filtered['acre_lot']\n",
    "\n",
    "# Split the data into training and testing sets\n",
    "X_train, X_test, y_train, y_test = train_test_split(X, y, test_size=0.2, random_state=42)\n",
    "\n",
    "# Define a preprocessor to handle missing values and encode categorical variables\n",
    "preprocessor = SimpleImputer(strategy='mean')  # You can use other strategies as well\n",
    "X_train_imputed = preprocessor.fit_transform(X_train)\n",
    "X_test_imputed = preprocessor.transform(X_test)\n",
    "\n",
    "# Create a Random Forest Regressor model\n",
    "model = RandomForestRegressor(random_state=42)\n",
    "\n",
    "# Fit the model to the training data\n",
    "model.fit(X_train_imputed, y_train)\n",
    "\n",
    "# Make predictions on the test set\n",
    "y_pred = model.predict(X_test_imputed)\n",
    "\n",
    "# Evaluate the model performance (optional)\n",
    "mse = mean_squared_error(y_test, y_pred)\n",
    "print(f'Mean Squared Error: {mse}')\n",
    "\n",
    "\n",
    "\n",
    "\n",
    "# Now, you can use the model to predict 'acre_lot' for new data\n",
    "#new_data = pd.DataFrame({'beds': [3], 'bath': [2], 'state': [''], 'house_size': [1800], 'price': [250000]})\n",
    "#new_data_imputed = preprocessor.transform(new_data)\n",
    "#prediction = model.predict(new_data_imputed)\n",
    "#print(f'Predicted acre_lot: {prediction[0]}')"
   ]
  },
  {
   "cell_type": "code",
   "execution_count": null,
   "metadata": {},
   "outputs": [],
   "source": [
    "x_values = df[['bed', 'bath', 'state #', 'house_size', 'price']]\n",
    "acre_lot_missing_indices = df[df['acre_lot'].isnull()].index\n",
    "X_missing_acre_lot = preprocessor.transform(x_values.loc[acre_lot_missing_indices])\n",
    "acre_pred = model.predict(X_missing_acre_lot)\n",
    "df.loc[acre_lot_missing_indices, 'acre_lot'] = acre_pred"
   ]
  },
  {
   "cell_type": "code",
   "execution_count": null,
   "metadata": {},
   "outputs": [],
   "source": [
    "sns.scatterplot(df['house_size'])"
   ]
  },
  {
   "cell_type": "code",
   "execution_count": null,
   "metadata": {},
   "outputs": [],
   "source": [
    "X = df_filtered[['bed', 'bath', 'state #', 'acre_lot', 'price']]\n",
    "y = df_filtered['house_size']\n",
    "\n",
    "# Split the data into training and testing sets\n",
    "X_train, X_test, y_train, y_test = train_test_split(X, y, test_size=0.2, random_state=42)\n",
    "\n",
    "# Define a preprocessor to handle missing values and encode categorical variables\n",
    "preprocessor = SimpleImputer(strategy='mean')  # You can use other strategies as well\n",
    "X_train_imputed = preprocessor.fit_transform(X_train)\n",
    "X_test_imputed = preprocessor.transform(X_test)\n",
    "\n",
    "# Create a Random Forest Regressor model\n",
    "model = RandomForestRegressor(random_state=42)\n",
    "\n",
    "# Fit the model to the training data\n",
    "model.fit(X_train_imputed, y_train)\n",
    "\n",
    "# Make predictions on the test set\n",
    "y_pred = model.predict(X_test_imputed)\n",
    "\n",
    "# Evaluate the model performance (optional)\n",
    "mse = mean_squared_error(y_test, y_pred)\n",
    "print(f'Mean Squared Error: {mse}')"
   ]
  },
  {
   "cell_type": "code",
   "execution_count": null,
   "metadata": {},
   "outputs": [],
   "source": [
    "x_values = df[['bed', 'bath', 'state #', 'acre_lot', 'price']]\n",
    "house_size_missing_indices = df[df['house_size'].isnull()].index\n",
    "X_missing_house_size = preprocessor.transform(x_values.loc[house_size_missing_indices])\n",
    "size_pred = model.predict(X_missing_house_size)\n",
    "df.loc[house_size_missing_indices, 'house_size'] = size_pred"
   ]
  },
  {
   "cell_type": "code",
   "execution_count": null,
   "metadata": {},
   "outputs": [],
   "source": [
    "sns.boxplot(df['price'])"
   ]
  },
  {
   "cell_type": "code",
   "execution_count": null,
   "metadata": {},
   "outputs": [],
   "source": [
    "#Removing price outliers\n",
    "\n",
    "Q1 = np.quantile(df['price'] , 0.25)\n",
    "Q3 = np.quantile(df['price'] , 0.75)\n",
    "IQR = Q3 - Q1\n",
    "\n",
    "lower_range = Q1 - 1.5 * IQR\n",
    "upper_range = Q3 + 1.5 * IQR\n",
    "outliers = [value for value in df['price'] if (\n",
    "        (value > lower_range) & (value < upper_range))]\n",
    "df = df.loc[df['price'].isin(outliers)]"
   ]
  },
  {
   "cell_type": "code",
   "execution_count": null,
   "metadata": {},
   "outputs": [],
   "source": [
    "#Now there are no null values\n",
    "print(df.isnull().sum().sort_values(ascending=False))"
   ]
  },
  {
   "cell_type": "code",
   "execution_count": null,
   "metadata": {},
   "outputs": [],
   "source": [
    "df_filtered.describe()"
   ]
  },
  {
   "cell_type": "markdown",
   "metadata": {},
   "source": [
    "# Data Visualization"
   ]
  },
  {
   "cell_type": "code",
   "execution_count": null,
   "metadata": {},
   "outputs": [],
   "source": []
  },
  {
   "cell_type": "code",
   "execution_count": null,
   "metadata": {},
   "outputs": [],
   "source": []
  }
 ],
 "metadata": {
  "kernelspec": {
   "display_name": "projectenv",
   "language": "python",
   "name": "python3"
  },
  "language_info": {
   "codemirror_mode": {
    "name": "ipython",
    "version": 3
   },
   "file_extension": ".py",
   "mimetype": "text/x-python",
   "name": "python",
   "nbconvert_exporter": "python",
   "pygments_lexer": "ipython3",
   "version": "3.12.0"
  }
 },
 "nbformat": 4,
 "nbformat_minor": 2
}
