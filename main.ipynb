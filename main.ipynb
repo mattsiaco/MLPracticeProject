{
 "cells": [
  {
   "cell_type": "markdown",
   "metadata": {},
   "source": [
    "##### Imports"
   ]
  },
  {
   "cell_type": "code",
   "execution_count": 2,
   "metadata": {},
   "outputs": [],
   "source": [
    "import pandas as pd\n",
    "import numpy as np\n",
    "import seaborn as sns\n",
    "import matplotlib.pyplot as plt\n",
    "import os\n",
    "\n",
    "from sklearn.model_selection import train_test_split\n",
    "from sklearn.ensemble import RandomForestRegressor\n",
    "from sklearn.impute import SimpleImputer\n",
    "from sklearn.metrics import mean_squared_error\n",
    "from sklearn.feature_extraction.text import CountVectorizer\n",
    "from sklearn import svm"
   ]
  },
  {
   "cell_type": "code",
   "execution_count": 3,
   "metadata": {},
   "outputs": [
    {
     "data": {
      "text/html": [
       "<div>\n",
       "<style scoped>\n",
       "    .dataframe tbody tr th:only-of-type {\n",
       "        vertical-align: middle;\n",
       "    }\n",
       "\n",
       "    .dataframe tbody tr th {\n",
       "        vertical-align: top;\n",
       "    }\n",
       "\n",
       "    .dataframe thead th {\n",
       "        text-align: right;\n",
       "    }\n",
       "</style>\n",
       "<table border=\"1\" class=\"dataframe\">\n",
       "  <thead>\n",
       "    <tr style=\"text-align: right;\">\n",
       "      <th></th>\n",
       "      <th>status</th>\n",
       "      <th>bed</th>\n",
       "      <th>bath</th>\n",
       "      <th>acre_lot</th>\n",
       "      <th>city</th>\n",
       "      <th>state</th>\n",
       "      <th>zip_code</th>\n",
       "      <th>house_size</th>\n",
       "      <th>prev_sold_date</th>\n",
       "      <th>price</th>\n",
       "    </tr>\n",
       "  </thead>\n",
       "  <tbody>\n",
       "    <tr>\n",
       "      <th>0</th>\n",
       "      <td>for_sale</td>\n",
       "      <td>3.0</td>\n",
       "      <td>2.0</td>\n",
       "      <td>0.12</td>\n",
       "      <td>Adjuntas</td>\n",
       "      <td>Puerto Rico</td>\n",
       "      <td>601.0</td>\n",
       "      <td>920.0</td>\n",
       "      <td>NaN</td>\n",
       "      <td>105000.0</td>\n",
       "    </tr>\n",
       "    <tr>\n",
       "      <th>1</th>\n",
       "      <td>for_sale</td>\n",
       "      <td>4.0</td>\n",
       "      <td>2.0</td>\n",
       "      <td>0.08</td>\n",
       "      <td>Adjuntas</td>\n",
       "      <td>Puerto Rico</td>\n",
       "      <td>601.0</td>\n",
       "      <td>1527.0</td>\n",
       "      <td>NaN</td>\n",
       "      <td>80000.0</td>\n",
       "    </tr>\n",
       "    <tr>\n",
       "      <th>2</th>\n",
       "      <td>for_sale</td>\n",
       "      <td>2.0</td>\n",
       "      <td>1.0</td>\n",
       "      <td>0.15</td>\n",
       "      <td>Juana Diaz</td>\n",
       "      <td>Puerto Rico</td>\n",
       "      <td>795.0</td>\n",
       "      <td>748.0</td>\n",
       "      <td>NaN</td>\n",
       "      <td>67000.0</td>\n",
       "    </tr>\n",
       "    <tr>\n",
       "      <th>3</th>\n",
       "      <td>for_sale</td>\n",
       "      <td>4.0</td>\n",
       "      <td>2.0</td>\n",
       "      <td>0.10</td>\n",
       "      <td>Ponce</td>\n",
       "      <td>Puerto Rico</td>\n",
       "      <td>731.0</td>\n",
       "      <td>1800.0</td>\n",
       "      <td>NaN</td>\n",
       "      <td>145000.0</td>\n",
       "    </tr>\n",
       "    <tr>\n",
       "      <th>4</th>\n",
       "      <td>for_sale</td>\n",
       "      <td>6.0</td>\n",
       "      <td>2.0</td>\n",
       "      <td>0.05</td>\n",
       "      <td>Mayaguez</td>\n",
       "      <td>Puerto Rico</td>\n",
       "      <td>680.0</td>\n",
       "      <td>NaN</td>\n",
       "      <td>NaN</td>\n",
       "      <td>65000.0</td>\n",
       "    </tr>\n",
       "  </tbody>\n",
       "</table>\n",
       "</div>"
      ],
      "text/plain": [
       "     status  bed  bath  acre_lot        city        state  zip_code  \\\n",
       "0  for_sale  3.0   2.0      0.12    Adjuntas  Puerto Rico     601.0   \n",
       "1  for_sale  4.0   2.0      0.08    Adjuntas  Puerto Rico     601.0   \n",
       "2  for_sale  2.0   1.0      0.15  Juana Diaz  Puerto Rico     795.0   \n",
       "3  for_sale  4.0   2.0      0.10       Ponce  Puerto Rico     731.0   \n",
       "4  for_sale  6.0   2.0      0.05    Mayaguez  Puerto Rico     680.0   \n",
       "\n",
       "   house_size prev_sold_date     price  \n",
       "0       920.0            NaN  105000.0  \n",
       "1      1527.0            NaN   80000.0  \n",
       "2       748.0            NaN   67000.0  \n",
       "3      1800.0            NaN  145000.0  \n",
       "4         NaN            NaN   65000.0  "
      ]
     },
     "execution_count": 3,
     "metadata": {},
     "output_type": "execute_result"
    }
   ],
   "source": [
    "df = pd.read_csv(\"realtor-data.csv\")\n",
    "df.head()"
   ]
  },
  {
   "cell_type": "code",
   "execution_count": 4,
   "metadata": {},
   "outputs": [
    {
     "name": "stdout",
     "output_type": "stream",
     "text": [
      "<class 'pandas.core.frame.DataFrame'>\n",
      "RangeIndex: 904966 entries, 0 to 904965\n",
      "Data columns (total 10 columns):\n",
      " #   Column          Non-Null Count   Dtype  \n",
      "---  ------          --------------   -----  \n",
      " 0   status          904966 non-null  object \n",
      " 1   bed             775126 non-null  float64\n",
      " 2   bath            791082 non-null  float64\n",
      " 3   acre_lot        638324 non-null  float64\n",
      " 4   city            904894 non-null  object \n",
      " 5   state           904966 non-null  object \n",
      " 6   zip_code        904762 non-null  float64\n",
      " 7   house_size      612080 non-null  float64\n",
      " 8   prev_sold_date  445865 non-null  object \n",
      " 9   price           904895 non-null  float64\n",
      "dtypes: float64(6), object(4)\n",
      "memory usage: 69.0+ MB\n"
     ]
    }
   ],
   "source": [
    "df.info()"
   ]
  },
  {
   "cell_type": "markdown",
   "metadata": {},
   "source": [
    "## Data Cleaning"
   ]
  },
  {
   "cell_type": "markdown",
   "metadata": {},
   "source": [
    "##### We can see that nearly each variable has some null values"
   ]
  },
  {
   "cell_type": "code",
   "execution_count": 5,
   "metadata": {},
   "outputs": [
    {
     "data": {
      "text/plain": [
       "prev_sold_date    459101\n",
       "house_size        292886\n",
       "acre_lot          266642\n",
       "bed               129840\n",
       "bath              113884\n",
       "zip_code             204\n",
       "city                  72\n",
       "price                 71\n",
       "status                 0\n",
       "state                  0\n",
       "dtype: int64"
      ]
     },
     "execution_count": 5,
     "metadata": {},
     "output_type": "execute_result"
    }
   ],
   "source": [
    "df.isnull().sum().sort_values(ascending=False)"
   ]
  },
  {
   "cell_type": "markdown",
   "metadata": {},
   "source": [
    "<ul>\n",
    "<li>We can remove houses that are not for sale</li>\n",
    "<li>Houses with no price since it is our main dependent variable</li>\n",
    "<li>Unimportant prev_sold_date, city, and zip_code variables</li>\n",
    "<li>Houses with two or more NaN values</li>\n",
    "</ul>"
   ]
  },
  {
   "cell_type": "code",
   "execution_count": 6,
   "metadata": {},
   "outputs": [],
   "source": [
    "df = df.drop(df[df['status'] != 'for_sale'].index)\n",
    "df = df.drop('status', axis = 1)\n",
    "df = df.dropna(subset='price')\n",
    "df = df.drop(['prev_sold_date', 'city', 'zip_code'], axis=1)\n",
    "df = df.dropna(thresh = 2)"
   ]
  },
  {
   "cell_type": "code",
   "execution_count": 7,
   "metadata": {},
   "outputs": [
    {
     "name": "stdout",
     "output_type": "stream",
     "text": [
      "Raw numbers\n",
      "house_size    292886\n",
      "acre_lot      265049\n",
      "bed           129840\n",
      "bath          112291\n",
      "state              0\n",
      "price              0\n",
      "dtype: int64\n",
      "\n",
      "Percentages\n",
      "house_size    32.421381\n",
      "acre_lot      29.339929\n",
      "bed           14.372801\n",
      "bath          12.430192\n",
      "state          0.000000\n",
      "price          0.000000\n",
      "dtype: float64\n"
     ]
    }
   ],
   "source": [
    "print(\"Raw numbers\")\n",
    "print(df.isnull().sum().sort_values(ascending=False))\n",
    "print(\"\\nPercentages\")\n",
    "print(((df.isnull().sum() / len(df)) * 100).sort_values(ascending=False))       "
   ]
  },
  {
   "cell_type": "code",
   "execution_count": 8,
   "metadata": {},
   "outputs": [
    {
     "data": {
      "text/plain": [
       "<Axes: >"
      ]
     },
     "execution_count": 8,
     "metadata": {},
     "output_type": "execute_result"
    },
    {
     "data": {
      "image/png": "[encoded data removed]",
      "text/plain": [
       "<Figure size 640x480 with 1 Axes>"
      ]
     },
     "metadata": {},
     "output_type": "display_data"
    }
   ],
   "source": [
    "sns.boxplot(df)"
   ]
  },
  {
   "cell_type": "markdown",
   "metadata": {},
   "source": [
    "##### Because bed and bath NaN values contribute to less than 15% of the 904966 entry dataset, we can drop these rows"
   ]
  },
  {
   "cell_type": "code",
   "execution_count": 9,
   "metadata": {},
   "outputs": [],
   "source": [
    "df = df.dropna(subset = ['bed', 'bath'])"
   ]
  },
  {
   "cell_type": "code",
   "execution_count": 10,
   "metadata": {},
   "outputs": [
    {
     "data": {
      "text/plain": [
       "state\n",
       "New Jersey        216004\n",
       "New York          175189\n",
       "Massachusetts     148332\n",
       "Connecticut        78235\n",
       "New Hampshire      32171\n",
       "Rhode Island       28212\n",
       "Vermont            28121\n",
       "Maine              24564\n",
       "Puerto Rico        21313\n",
       "Pennsylvania       15044\n",
       "Delaware            1988\n",
       "Virgin Islands       742\n",
       "Georgia               48\n",
       "Wyoming                3\n",
       "West Virginia          3\n",
       "Name: count, dtype: int64"
      ]
     },
     "execution_count": 10,
     "metadata": {},
     "output_type": "execute_result"
    }
   ],
   "source": [
    "df[\"state\"].value_counts() "
   ]
  },
  {
   "cell_type": "markdown",
   "metadata": {},
   "source": [
    "##### Since Georgia, Wyoming, and West Virginia only contribute to 54 entries, we can drop these values"
   ]
  },
  {
   "cell_type": "code",
   "execution_count": 11,
   "metadata": {},
   "outputs": [
    {
     "name": "stdout",
     "output_type": "stream",
     "text": [
      "['Puerto Rico' 'Virgin Islands' 'Massachusetts' 'Connecticut' 'New Jersey'\n",
      " 'New York' 'New Hampshire' 'Vermont' 'Rhode Island' 'Maine'\n",
      " 'Pennsylvania' 'Delaware']\n"
     ]
    }
   ],
   "source": [
    "df = df[~df['state'].isin([\"Georgia\", \"Wyoming\", \"West Virginia\"])]\n",
    "print(df['state'].unique())"
   ]
  },
  {
   "cell_type": "markdown",
   "metadata": {},
   "source": [
    "##### Mapping unique numbers to each state"
   ]
  },
  {
   "cell_type": "code",
   "execution_count": 12,
   "metadata": {},
   "outputs": [
    {
     "name": "stdout",
     "output_type": "stream",
     "text": [
      "Puerto Rico: 0\n",
      "Virgin Islands: 1\n",
      "Massachusetts: 2\n",
      "Connecticut: 3\n",
      "New Jersey: 4\n",
      "New York: 5\n",
      "New Hampshire: 6\n",
      "Vermont: 7\n",
      "Rhode Island: 8\n",
      "Maine: 9\n",
      "Pennsylvania: 10\n",
      "Delaware: 11\n"
     ]
    }
   ],
   "source": [
    "state_names = df['state'].unique()\n",
    "state_mapping = {state: i for i, state in enumerate(state_names)}\n",
    "df['state #'] = df['state'].map(state_mapping)\n",
    "\n",
    "for state, number in state_mapping.items():\n",
    "    print(f\"{state}: {number}\")"
   ]
  },
  {
   "cell_type": "code",
   "execution_count": 13,
   "metadata": {},
   "outputs": [
    {
     "name": "stdout",
     "output_type": "stream",
     "text": [
      "acre_lot      245165\n",
      "house_size    180650\n",
      "bed                0\n",
      "bath               0\n",
      "state              0\n",
      "price              0\n",
      "state #            0\n",
      "dtype: int64\n"
     ]
    }
   ],
   "source": [
    "print(df.isnull().sum().sort_values(ascending=False))"
   ]
  },
  {
   "cell_type": "markdown",
   "metadata": {},
   "source": [
    "##### Visualizing each unoptimized variable"
   ]
  },
  {
   "cell_type": "code",
   "execution_count": 14,
   "metadata": {},
   "outputs": [
    {
     "data": {
      "text/plain": [
       "<Axes: ylabel='acre_lot'>"
      ]
     },
     "execution_count": 14,
     "metadata": {},
     "output_type": "execute_result"
    },
    {
     "data": {
      "image/png": "[encoded data removed]",
      "text/plain": [
       "<Figure size 640x480 with 1 Axes>"
      ]
     },
     "metadata": {},
     "output_type": "display_data"
    }
   ],
   "source": [
    "sns.scatterplot(df['acre_lot']) \n"
   ]
  },
  {
   "cell_type": "code",
   "execution_count": 15,
   "metadata": {},
   "outputs": [
    {
     "data": {
      "text/plain": [
       "<Axes: ylabel='house_size'>"
      ]
     },
     "execution_count": 15,
     "metadata": {},
     "output_type": "execute_result"
    },
    {
     "data": {
      "image/png": "[encoded data removed]",
      "text/plain": [
       "<Figure size 640x480 with 1 Axes>"
      ]
     },
     "metadata": {},
     "output_type": "display_data"
    }
   ],
   "source": [
    "sns.scatterplot(df['house_size']) "
   ]
  },
  {
   "cell_type": "code",
   "execution_count": 16,
   "metadata": {},
   "outputs": [
    {
     "data": {
      "text/plain": [
       "<Axes: ylabel='price'>"
      ]
     },
     "execution_count": 16,
     "metadata": {},
     "output_type": "execute_result"
    },
    {
     "data": {
      "image/png": "[encoded data removed]",
      "text/plain": [
       "<Figure size 640x480 with 1 Axes>"
      ]
     },
     "metadata": {},
     "output_type": "display_data"
    }
   ],
   "source": [
    "sns.scatterplot(df['price'])"
   ]
  },
  {
   "cell_type": "markdown",
   "metadata": {},
   "source": [
    "##### Implementing maximums for acre_lot and house_size"
   ]
  },
  {
   "cell_type": "code",
   "execution_count": 17,
   "metadata": {},
   "outputs": [],
   "source": [
    "df = df[(df['acre_lot'] <= 200) | df['acre_lot'].isnull()]\n",
    "df = df[(df['house_size'] <= 20000) | df['house_size'].isnull()]"
   ]
  },
  {
   "cell_type": "markdown",
   "metadata": {},
   "source": [
    "##### Removing price outliers via IQR"
   ]
  },
  {
   "cell_type": "code",
   "execution_count": 18,
   "metadata": {},
   "outputs": [],
   "source": [
    "Q1 = np.quantile(df['price'] , 0.25)\n",
    "Q3 = np.quantile(df['price'] , 0.75)\n",
    "IQR = Q3 - Q1\n",
    "\n",
    "lower_range = Q1 - 1.5 * IQR\n",
    "upper_range = Q3 + 1.5 * IQR\n",
    "outliers = [value for value in df['price'] if (\n",
    "        (value > lower_range) & (value < upper_range))]\n",
    "df = df.loc[df['price'].isin(outliers)]"
   ]
  },
  {
   "cell_type": "markdown",
   "metadata": {},
   "source": [
    "##### Imputation of missing acre_lot values via RandomForestRegressor"
   ]
  },
  {
   "cell_type": "code",
   "execution_count": 19,
   "metadata": {},
   "outputs": [],
   "source": [
    "df_filtered = df.dropna(subset=['acre_lot', 'house_size'])\n",
    "X = df_filtered[['bed', 'bath', 'state #', 'house_size', 'price']]\n",
    "y = df_filtered['acre_lot']\n",
    "X_train, X_test, y_train, y_test = train_test_split(X, y, test_size=0.2, random_state=42)\n",
    "preprocessor = SimpleImputer(strategy='mean')\n",
    "X_train_imputed = preprocessor.fit_transform(X_train)\n",
    "X_test_imputed = preprocessor.transform(X_test)\n",
    "model = RandomForestRegressor(random_state=42)\n",
    "model.fit(X_train_imputed, y_train)\n",
    "y_pred = model.predict(X_test_imputed)\n",
    "\n",
    "x_values = df[['bed', 'bath', 'state #', 'house_size', 'price']]\n",
    "acre_lot_missing_indices = df[df['acre_lot'].isnull()].index\n",
    "X_missing_acre_lot = preprocessor.transform(x_values.loc[acre_lot_missing_indices])\n",
    "acre_pred = model.predict(X_missing_acre_lot)\n",
    "df.loc[acre_lot_missing_indices, 'acre_lot'] = acre_pred"
   ]
  },
  {
   "cell_type": "markdown",
   "metadata": {},
   "source": [
    "##### Imputation of missing house_size values via RandomForestRegressor"
   ]
  },
  {
   "cell_type": "code",
   "execution_count": 20,
   "metadata": {},
   "outputs": [],
   "source": [
    "X = df_filtered[['bed', 'bath', 'state #', 'acre_lot', 'price']]\n",
    "y = df_filtered['house_size']\n",
    "X_train, X_test, y_train, y_test = train_test_split(X, y, test_size=0.2, random_state=42)\n",
    "X_train_imputed = preprocessor.fit_transform(X_train)\n",
    "X_test_imputed = preprocessor.transform(X_test)\n",
    "model.fit(X_train_imputed, y_train)\n",
    "y_pred = model.predict(X_test_imputed)\n",
    "\n",
    "x_values = df[['bed', 'bath', 'state #', 'acre_lot', 'price']]\n",
    "house_size_missing_indices = df[df['house_size'].isnull()].index\n",
    "X_missing_house_size = preprocessor.transform(x_values.loc[house_size_missing_indices])\n",
    "size_pred = model.predict(X_missing_house_size)\n",
    "df.loc[house_size_missing_indices, 'house_size'] = size_pred"
   ]
  },
  {
   "cell_type": "markdown",
   "metadata": {},
   "source": [
    "##### Now there are no null values"
   ]
  },
  {
   "cell_type": "code",
   "execution_count": 21,
   "metadata": {},
   "outputs": [
    {
     "name": "stdout",
     "output_type": "stream",
     "text": [
      "bed           0\n",
      "bath          0\n",
      "acre_lot      0\n",
      "state         0\n",
      "house_size    0\n",
      "price         0\n",
      "state #       0\n",
      "dtype: int64\n"
     ]
    }
   ],
   "source": [
    "print(df.isnull().sum().sort_values(ascending=False))"
   ]
  },
  {
   "cell_type": "markdown",
   "metadata": {},
   "source": [
    "### Prediction Model"
   ]
  },
  {
   "cell_type": "code",
   "execution_count": 34,
   "metadata": {},
   "outputs": [],
   "source": [
    "from sklearn.ensemble import RandomForestRegressor\n",
    "from sklearn.linear_model import LinearRegression\n",
    "from sklearn.tree import DecisionTreeRegressor\n",
    "\n",
    "from sklearn.preprocessing import OneHotEncoder, StandardScaler, MinMaxScaler\n",
    "from sklearn.metrics import r2_score, mean_squared_error, mean_absolute_error"
   ]
  },
  {
   "cell_type": "code",
   "execution_count": 27,
   "metadata": {},
   "outputs": [],
   "source": [
    "df['house_size'] = StandardScaler().fit_transform(df['house_size'].values.reshape(len(df), 1))\n",
    "df['price'] = StandardScaler().fit_transform(df['price'].values.reshape(len(df), 1))\n",
    "df['bed'] = MinMaxScaler().fit_transform(df['bed'].values.reshape(len(df), 1))\n",
    "df['bath'] = MinMaxScaler().fit_transform(df['bath'].values.reshape(len(df), 1))\n",
    "df['acre_lot'] = MinMaxScaler().fit_transform(df['acre_lot'].values.reshape(len(df), 1))"
   ]
  },
  {
   "cell_type": "code",
   "execution_count": 29,
   "metadata": {},
   "outputs": [],
   "source": [
    "X = df[['bed', 'bath', 'acre_lot', 'house_size', 'state']]\n",
    "y = df['price']\n",
    "\n",
    "# One-hot encode state (categorical data)\n",
    "X = pd.get_dummies(X, columns=['state'])\n",
    "\n",
    "X_train, X_test, y_train, y_test = train_test_split(X, y, test_size=0.2, random_state=42)"
   ]
  },
  {
   "cell_type": "code",
   "execution_count": 39,
   "metadata": {},
   "outputs": [],
   "source": [
    "# Random Forest Model\n",
    "model_RF = RandomForestRegressor(n_estimators=100, random_state=42)\n",
    "model_RF.fit(X_train, y_train)\n",
    "\n",
    "y_pred = model_RF.predict(X_test)\n",
    "\n",
    "mse_RF = mean_squared_error(y_test, y_pred)\n",
    "rmse_RF = mean_squared_error(y_test, y_pred, squared=False)\n",
    "mae_RF = mean_absolute_error(y_test, y_pred)\n",
    "r2_RF = r2_score(y_test, y_pred)"
   ]
  },
  {
   "cell_type": "code",
   "execution_count": 37,
   "metadata": {},
   "outputs": [],
   "source": [
    "# Linear Regression Model\n",
    "model_LR = LinearRegression()\n",
    "\n",
    "model_LR.fit(X_train, y_train)\n",
    "\n",
    "y_pred_lr = model_LR.predict(X_test)\n",
    "\n",
    "# calculate\n",
    "mse_LR = mean_squared_error(y_test, y_pred_lr)\n",
    "rmse_LR = mean_squared_error(y_test, y_pred_lr, squared=False)\n",
    "mae_LR = mean_absolute_error(y_test, y_pred_lr)\n",
    "r2_LR = r2_score(y_test, y_pred_lr)"
   ]
  },
  {
   "cell_type": "code",
   "execution_count": 30,
   "metadata": {},
   "outputs": [],
   "source": [
    "# Decision Tree Model\n",
    "model_DT = DecisionTreeRegressor(max_depth=5)\n",
    "\n",
    "model_DT.fit(X_train, y_train)\n",
    "\n",
    "y_pred = model_DT.predict(X_test)\n",
    "\n",
    "# calculate\n",
    "mse_DT = mean_squared_error(y_test, y_pred)\n",
    "rmse_DT = mean_squared_error(y_test, y_pred, squared=False)\n",
    "mae_DT = mean_absolute_error(y_test, y_pred)\n",
    "r2_DT = r2_score(y_test, y_pred)"
   ]
  },
  {
   "cell_type": "code",
   "execution_count": 40,
   "metadata": {},
   "outputs": [
    {
     "name": "stdout",
     "output_type": "stream",
     "text": [
      "                    MSE  RMSE   MAE   R^2\n",
      "Decision Tree      0.56  0.75  0.55  0.44\n",
      "Linear Regression  0.56  0.75  0.55  0.44\n",
      "Random Forest      0.02  0.14  0.03  0.98\n"
     ]
    }
   ],
   "source": [
    "results = {\n",
    "    'Decision Tree': {'MSE': mse_DT, 'RMSE': rmse_DT, 'MAE': mae_DT, 'R^2': r2_DT},\n",
    "    'Linear Regression': {'MSE': mse_DT, 'RMSE': rmse_DT, 'MAE': mae_DT, 'R^2': r2_DT},\n",
    "    'Random Forest': {'MSE': mse_RF, 'RMSE': rmse_RF, 'MAE': mae_RF, 'R^2': r2_RF},\n",
    "}\n",
    "\n",
    "data = pd.DataFrame.from_dict(results, orient='index')\n",
    "data = data.apply(lambda x: x.map(lambda y: f'{y:.2f}'))\n",
    "print(data)"
   ]
  }
 ],
 "metadata": {
  "kernelspec": {
   "display_name": "projectenv",
   "language": "python",
   "name": "python3"
  },
  "language_info": {
   "codemirror_mode": {
    "name": "ipython",
    "version": 3
   },
   "file_extension": ".py",
   "mimetype": "text/x-python",
   "name": "python",
   "nbconvert_exporter": "python",
   "pygments_lexer": "ipython3",
   "version": "3.12.0"
  }
 },
 "nbformat": 4,
 "nbformat_minor": 2
}
